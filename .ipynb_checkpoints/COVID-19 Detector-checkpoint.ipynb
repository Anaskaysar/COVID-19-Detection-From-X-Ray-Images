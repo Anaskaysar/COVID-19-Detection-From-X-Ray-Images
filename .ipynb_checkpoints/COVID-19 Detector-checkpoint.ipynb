{
 "cells": [
  {
   "cell_type": "code",
   "execution_count": 1,
   "id": "728bf475-45d8-4087-8904-2458a76994b8",
   "metadata": {},
   "outputs": [],
   "source": [
    "TRAIN_PATH= \"Created_Dataset/Train\"\n",
    "VAL_PATH= \"Created_Dataset/Val\""
   ]
  },
  {
   "cell_type": "code",
   "execution_count": 2,
   "id": "1d864815-e74f-48ff-82d4-511506f93d4f",
   "metadata": {},
   "outputs": [],
   "source": [
    "import numpy as np\n",
    "import matplotlib.pyplot as plt\n",
    "import keras\n",
    "from keras.layers import *\n",
    "from keras.models import *\n",
    "from keras.preprocessing import image"
   ]
  },
  {
   "cell_type": "code",
   "execution_count": null,
   "id": "bb04985f-bc5f-4e39-8e91-9d81a800dd79",
   "metadata": {},
   "outputs": [],
   "source": [
    "#CNN Based Model in Keras \n",
    "model =Sequential()\n",
    "model.add(Conv2D(32,kernal_size=(3,3),activation='relu',input_shape=(224,224,3))) #this a standard size for kernal size\n",
    "model.add(Conv2D(64,(3,3),activation='relu'))\n",
    "model.add(MaxPooling2D(pool_size=(2,2)))"
   ]
  }
 ],
 "metadata": {
  "kernelspec": {
   "display_name": "Python 3 (ipykernel)",
   "language": "python",
   "name": "python3"
  },
  "language_info": {
   "codemirror_mode": {
    "name": "ipython",
    "version": 3
   },
   "file_extension": ".py",
   "mimetype": "text/x-python",
   "name": "python",
   "nbconvert_exporter": "python",
   "pygments_lexer": "ipython3",
   "version": "3.9.7"
  }
 },
 "nbformat": 4,
 "nbformat_minor": 5
}
